{
  "nbformat": 4,
  "nbformat_minor": 0,
  "metadata": {
    "colab": {
      "name": "Clases.ipynb",
      "provenance": [],
      "collapsed_sections": []
    },
    "kernelspec": {
      "name": "python3",
      "display_name": "Python 3"
    }
  },
  "cells": [
    {
      "cell_type": "markdown",
      "metadata": {
        "id": "0L8sZMvqXINn"
      },
      "source": [
        "#2.3 Ejercicios\n",
        "\n",
        "1.Restaurante: a) Crear una clase llamada Restaurant. El método __init__() debe de aceptar dos atributos: El nombre_restaurant y el tipo_cocina.b) Crear un método que se llame describe_restaurant que imprima: El nombre del restaurant es: ------ y El tipo de comida que se sirve es: -------. c) Generar\n"
      ]
    },
    {
      "cell_type": "code",
      "metadata": {
        "id": "CReE6oWVXgFe",
        "outputId": "d70e522b-db20-4825-b752-8095c8957c55",
        "colab": {
          "base_uri": "https://localhost:8080/"
        }
      },
      "source": [
        "class Restaurant():\n",
        "  def __init__(self, nombre_restaurant, tipo_cocina):\n",
        "    self.nombre_restaurant = nombre_restaurant\n",
        "    self.tipo_cocina = tipo_cocina\n",
        "    \n",
        "  def describe_restaurant(self):\n",
        "    print('El nombre del restaurant es: ' + self.nombre_restaurant + ' y el tipo de comida que sirve es: ' + self.tipo_cocina)\n",
        "\n",
        "nuevoRestaurant = Restaurant('La casa de Toño', 'mexicana')\n",
        "nuevoRestaurant.describe_restaurant()"
      ],
      "execution_count": null,
      "outputs": [
        {
          "output_type": "stream",
          "text": [
            "El nombre del restaurant es: La casa de Toño y el tipo de comida que sirve es: mexicana\n"
          ],
          "name": "stdout"
        }
      ]
    },
    {
      "cell_type": "markdown",
      "metadata": {
        "id": "d5YP8fmDXg3u"
      },
      "source": [
        "2.Tres Restaurantes: Crear tres restaurantes utilizando la clase que se ha definido con anterioridad y llame al método describe_restaurant para cada instancia de la clase.\n"
      ]
    },
    {
      "cell_type": "code",
      "metadata": {
        "id": "nd7c0jbVXjnA",
        "outputId": "9ac62506-d9ea-4d06-af6e-f5f6148cb1a9",
        "colab": {
          "base_uri": "https://localhost:8080/"
        }
      },
      "source": [
        "Restaurant1 = Restaurant('Macelleria', 'italiana')\n",
        "Restaurant1.describe_restaurant()\n",
        "\n",
        "Restaurant2 = Restaurant('China Shing', 'china')\n",
        "Restaurant2.describe_restaurant()\n",
        "\n",
        "Restaurant3 = Restaurant('El Che del Barrio', 'argentina')\n",
        "Restaurant3.describe_restaurant()"
      ],
      "execution_count": null,
      "outputs": [
        {
          "output_type": "stream",
          "text": [
            "El nombre del restaurant es: Macelleria y el tipo de comida que sirve es: italiana\n",
            "El nombre del restaurant es: China Shing y el tipo de comida que sirve es: china\n",
            "El nombre del restaurant es: El Che del Barrio y el tipo de comida que sirve es: argentina\n"
          ],
          "name": "stdout"
        }
      ]
    },
    {
      "cell_type": "markdown",
      "metadata": {
        "id": "pNe6SuHfXkFu"
      },
      "source": [
        "3.Usuarios: a) Cree una clase que se llame Usuario. b)Cree dos atributos llamados Nombre y Apellido, agregue atributos como CURP,Fecha_Nacimiento, Sexo, Grado_estudios. c)Genere un método llamado Saluda_usuario y que despliegue en pantalla algo como Hola Juan Ruiz de Alarcón. d)Genere un método que se llame Describe_usuario y que muestre toda la información del usuario. e)Genere 5 objetos tipo usuario y ejecute los dos métodos anteriormente descritos.*texto en cursiva*"
      ]
    },
    {
      "cell_type": "code",
      "metadata": {
        "id": "Zj5JKwL_Xlh_",
        "outputId": "10f261c8-aad5-4888-af14-7478f95fdcf9",
        "colab": {
          "base_uri": "https://localhost:8080/"
        }
      },
      "source": [
        "class Usuario():\n",
        "  def __init__(self, nombre, apellido, curp, fecha_nacimiento, sexo, grado_estudios):\n",
        "    self.nombre = nombre\n",
        "    self.apellido = apellido\n",
        "    self.curp = curp\n",
        "    self.fecha_nacimiento = fecha_nacimiento\n",
        "    self.sexo = sexo\n",
        "    self.grado_estudios = grado_estudios\n",
        "\n",
        "  def saluda_usuario(self):\n",
        "    print('Hola ' + self.nombre + ' ' + self.apellido)\n",
        "\n",
        "  def describe_usuario(self):\n",
        "    print('Información de usuario:' + '\\n' + 'Nombre: ' + self.nombre + \n",
        "          '\\n' + 'Apellido: ' + self.apellido + '\\n' + 'CURP: ' + self.curp + '\\n' +\n",
        "          'Fecha de nacimiento: ' + self.fecha_nacimiento + '\\n' + 'Sexo: ' + self.sexo +\n",
        "          '\\n' + 'Grado de estudios: ' + self.grado_estudios + '\\n')\n",
        "\n",
        "mi_usuario = Usuario('Silvia', 'Alarcón', 'SDFGHJK', '03/11/1990', 'Femenino', 'Licenciatura')\n",
        "mi_usuario.saluda_usuario()\n",
        "mi_usuario.describe_usuario()\n",
        "\n",
        "usuario1 = Usuario('Carolina', 'Baez', 'RTYUITY', '18/08/1994', 'Femenino', 'Licenciatura')\n",
        "usuario1.saluda_usuario()\n",
        "usuario1.describe_usuario()\n",
        "\n",
        "usuario2 = Usuario('Fernanda', 'Tovar', 'LKJHG', '29/09/1992', 'Femenino', 'Licenciatura')\n",
        "usuario2.saluda_usuario()\n",
        "usuario2.describe_usuario()\n",
        "\n",
        "usuario3 = Usuario('Ariana', 'Hernández', 'MNBVCX', '13/01/1999', 'Femenino', 'Licenciatura')\n",
        "usuario3.saluda_usuario()\n",
        "usuario3.describe_usuario()\n",
        "\n",
        "usuario4 = Usuario('Adrián', 'López', 'ASDFGH', '30/04/2000', 'Masculino', 'Licenciatura')\n",
        "usuario4.saluda_usuario()\n",
        "usuario4.describe_usuario()"
      ],
      "execution_count": null,
      "outputs": [
        {
          "output_type": "stream",
          "text": [
            "Hola Silvia Alarcón\n",
            "Información de usuario:\n",
            "Nombre: Silvia\n",
            "Apellido: Alarcón\n",
            "CURP: SDFGHJK\n",
            "Fecha de nacimiento: 03/11/1990\n",
            "Sexo: Femenino\n",
            "Grado de estudios: Licenciatura\n",
            "\n",
            "Hola Carolina Baez\n",
            "Información de usuario:\n",
            "Nombre: Carolina\n",
            "Apellido: Baez\n",
            "CURP: RTYUITY\n",
            "Fecha de nacimiento: 18/08/1994\n",
            "Sexo: Femenino\n",
            "Grado de estudios: Licenciatura\n",
            "\n",
            "Hola Fernanda Tovar\n",
            "Información de usuario:\n",
            "Nombre: Fernanda\n",
            "Apellido: Tovar\n",
            "CURP: LKJHG\n",
            "Fecha de nacimiento: 29/09/1992\n",
            "Sexo: Femenino\n",
            "Grado de estudios: Licenciatura\n",
            "\n",
            "Hola Ariana Hernández\n",
            "Información de usuario:\n",
            "Nombre: Ariana\n",
            "Apellido: Hernández\n",
            "CURP: MNBVCX\n",
            "Fecha de nacimiento: 13/01/1999\n",
            "Sexo: Femenino\n",
            "Grado de estudios: Licenciatura\n",
            "\n",
            "Hola Adrián López\n",
            "Información de usuario:\n",
            "Nombre: Adrián\n",
            "Apellido: López\n",
            "CURP: ASDFGH\n",
            "Fecha de nacimiento: 30/04/2000\n",
            "Sexo: Masculino\n",
            "Grado de estudios: Licenciatura\n",
            "\n"
          ],
          "name": "stdout"
        }
      ]
    },
    {
      "cell_type": "markdown",
      "metadata": {
        "id": "-mbk2AeriP5E"
      },
      "source": [
        "#2.4.4 Ejercicios\n",
        "\n",
        "1.Clientes atendidos: Retomar la clase de Restaurante que se generó a lo largo de este notebook y agregar un atributo que clientes_atendidos y agregar dos métodos:\n",
        "\n",
        "Clientes_Atendidos(self,numero): que pueda modificar el número de clientes 2.Aumenta_Clientes(self,numero): que pueda aumentar el número de clientes que se han atendido"
      ]
    },
    {
      "cell_type": "code",
      "metadata": {
        "id": "TvQRTznglpAL",
        "outputId": "ddaaad70-fbcb-4be9-97bd-eae27660825f",
        "colab": {
          "base_uri": "https://localhost:8080/"
        }
      },
      "source": [
        "class Restaurant():\n",
        "  def __init__(self, nombre_restaurant, tipo_cocina):\n",
        "    self.nombre_restaurant = nombre_restaurant\n",
        "    self.tipo_cocina = tipo_cocina\n",
        "    self.clientes = 0\n",
        "    \n",
        "  def describe_restaurant(self):\n",
        "    print('El nombre del restaurant es: ' + self.nombre_restaurant + ' y el tipo de comida que sirve es: ' + self.tipo_cocina)\n",
        "\n",
        "  def aumenta_clientes(self, clientes_nuevos):\n",
        "    if clientes_nuevos >= self.clientes:\n",
        "      print('Clientes registrados')\n",
        "      self.clientes = clientes_nuevos\n",
        "    else:\n",
        "      print('No se registraron los clientes')\n",
        "  \n",
        "  def clientes_atendidos(self, total_clientes):\n",
        "    if total_clientes >= 0:\n",
        "      print('Clientes actualizados')\n",
        "      self.clientes += total_clientes\n",
        "    else:\n",
        "      print('No se registraron los clientes')\n",
        "\n",
        "restaurante1 = Restaurant('Tacos', 'mexicana')\n",
        "restaurante1.aumenta_clientes(3)\n",
        "restaurante1.clientes_atendidos(3)"
      ],
      "execution_count": 3,
      "outputs": [
        {
          "output_type": "stream",
          "text": [
            "Clientes registrados\n",
            "Clientes actualizados\n"
          ],
          "name": "stdout"
        }
      ]
    },
    {
      "cell_type": "markdown",
      "metadata": {
        "id": "zx-CZ6Jklp_Z"
      },
      "source": [
        "2.Control de acceso. Completar el código de la siguiente celda, que crea una clase Usuario, donde el constructor debe de aceptar el nombre de usuario y la contraseña, cuando se invoque el método ingresar debe de pedir la contraseña del usuario, si la contraseña es correcta, debe de imprimir Bienvenido a su cuenta, si la contraseña se ingresa incorrectamente 3 veces debe de imprimir Cuenta bloqueada, intente más tarde y debe de reiniciar la varialbe self.intentosAcceso a cero."
      ]
    },
    {
      "cell_type": "code",
      "metadata": {
        "id": "ksWJQs00ltr_",
        "outputId": "e4eda260-7e8d-4e5c-923f-dd336fa4ee72",
        "colab": {
          "base_uri": "https://localhost:8080/"
        }
      },
      "source": [
        "class User():\n",
        "\n",
        "  def __init__(self,Nickname,password):\n",
        "    self.nombre_usuario = Nickname\n",
        "    self.password = password\n",
        "    self.intentosAcceso = 0\n",
        "      \n",
        "  def ingresar(self):\n",
        "    while(1):\n",
        "      cont = input(\"Ingrese su contraseña:\")\n",
        "      if cont == self.password:\n",
        "        print(\"Bienvenido a su cuenta\")\n",
        "        break\n",
        "            \n",
        "      else:\n",
        "        print(\"Contraseña incorrecta\")\n",
        "        self.intentosAcceso += 1\n",
        "\n",
        "        if self.intentosAcceso == 3:\n",
        "          print(\"Cuenta bloqueada, intente más tarde\")\n",
        "          self.intentosAcceso = 0\n",
        "          break\n",
        "\n",
        "user1 = User('Juan','juan1234')\n",
        "user1.ingresar()"
      ],
      "execution_count": null,
      "outputs": [
        {
          "output_type": "stream",
          "text": [
            "Ingrese su contraseña:juan1234\n",
            "Bienvenido a su cuenta\n"
          ],
          "name": "stdout"
        }
      ]
    },
    {
      "cell_type": "markdown",
      "metadata": {
        "id": "ZuGY-Xjzby87"
      },
      "source": [
        "#2.5.5 Ejercicio\n",
        "\n",
        "1.Heladería: Una heladería se puede ver como un tipo específico de restaurante. Cree una clase que se llame Heladeria que herede de la clase Restaurante que se ha desarrollado en los ejercicios anteriores. Cree un atributo que se llame sabores que debe de ser una lista (estructura de datos). Agregar un método a la clase Heladeria que muestre los sabores que tiene."
      ]
    },
    {
      "cell_type": "code",
      "metadata": {
        "id": "ZQslfbHasc97",
        "outputId": "e458b54e-4c39-48f8-99e2-c31e7c9c9661",
        "colab": {
          "base_uri": "https://localhost:8080/"
        }
      },
      "source": [
        "class Restaurant():\n",
        "  def __init__(self, nombre_restaurant, tipo_cocina):\n",
        "    self.nombre_restaurant = nombre_restaurant\n",
        "    self.tipo_cocina = tipo_cocina\n",
        "    self.clientes = 0\n",
        "    \n",
        "  def describe_restaurant(self):\n",
        "    print('El nombre del restaurant es: ' + self.nombre_restaurant + ' y el tipo de comida que sirve es: ' + self.tipo_cocina)\n",
        "\n",
        "  def aumenta_clientes(self, clientes_nuevos):\n",
        "    if clientes_nuevos >= self.clientes:\n",
        "      print('Clientes registrados')\n",
        "      self.clientes = clientes_nuevos\n",
        "    else:\n",
        "      print('No se registraron los clientes')\n",
        "  \n",
        "  def clientes_atendidos(self, total_clientes):\n",
        "    if total_clientes >= 0:\n",
        "      print('Clientes actualizados')\n",
        "      self.clientes += total_clientes\n",
        "    else:\n",
        "      print('No se registraron los clientes')\n",
        "\n",
        "class Heladeria(Restaurant):\n",
        "  def __init__(self, nombre_restaurant, tipo_cocina):\n",
        "    super().__init__(nombre_restaurant, tipo_cocina)\n",
        "    self.sabores = ['Chocolate', 'Fresa', 'Mango']\n",
        "\n",
        "  def mostrarSabores(self):\n",
        "    for i in self.sabores:\n",
        "      print('Helados sabor: ' + i)\n",
        "\n",
        "nuevaHeladeria = Heladeria('Helados', 'postres')\n",
        "nuevaHeladeria.mostrarSabores()"
      ],
      "execution_count": 10,
      "outputs": [
        {
          "output_type": "stream",
          "text": [
            "Helados sabor: Chocolate\n",
            "Helados sabor: Fresa\n",
            "Helados sabor: Mango\n"
          ],
          "name": "stdout"
        }
      ]
    }
  ]
}