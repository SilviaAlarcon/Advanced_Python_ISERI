{
  "nbformat": 4,
  "nbformat_minor": 0,
  "metadata": {
    "colab": {
      "name": "Funciones",
      "provenance": [],
      "collapsed_sections": []
    },
    "kernelspec": {
      "name": "python3",
      "display_name": "Python 3"
    }
  },
  "cells": [
    {
      "cell_type": "markdown",
      "metadata": {
        "id": "cJKfUiBtpuCV"
      },
      "source": [
        "#1.1.2 Ejercicios \n",
        "\n",
        "1.1.2.1. Escriba una función llamanda display_message() que imprima en la pantalla un mensaje que indique los temas que se han visto hasta el momento."
      ]
    },
    {
      "cell_type": "code",
      "metadata": {
        "id": "XRIcDBbXqu23",
        "outputId": "88db4e75-d262-4754-c51f-73448156dced",
        "colab": {
          "base_uri": "https://localhost:8080/"
        }
      },
      "source": [
        "def display_message():\n",
        "  print('Se han visto los temas de clases y funciones')\n",
        "\n",
        "display_message()"
      ],
      "execution_count": 2,
      "outputs": [
        {
          "output_type": "stream",
          "text": [
            "Se han visto los temas de clases y funciones\n"
          ],
          "name": "stdout"
        }
      ]
    },
    {
      "cell_type": "markdown",
      "metadata": {
        "id": "kQull0QTrOPk"
      },
      "source": [
        "1.1.2.2 Libro favorito.\n",
        "Escriba una función que se llame $\\verb|libro_favorito()|$ que acepte un parámetro llamado $\\verb|titulo|$ y que despligue en la terminal Tu libro favorito es (nombre del libro)"
      ]
    },
    {
      "cell_type": "code",
      "metadata": {
        "id": "0cVZOddxrVPe",
        "outputId": "9662735b-2d7f-4541-d2e7-a350065da77b",
        "colab": {
          "base_uri": "https://localhost:8080/"
        }
      },
      "source": [
        "def libro_favorito(libro):\n",
        "  print('Tu libro favorito es ', libro)\n",
        "\n",
        "libro_favorito('21 lecciones para el siglo XXI')"
      ],
      "execution_count": 3,
      "outputs": [
        {
          "output_type": "stream",
          "text": [
            "Tu libro favorito es  21 lecciones para el siglo XXI\n"
          ],
          "name": "stdout"
        }
      ]
    },
    {
      "cell_type": "markdown",
      "metadata": {
        "id": "gjypaHuisItN"
      },
      "source": [
        "#1.3 Ejercicios\n",
        "\n",
        "1.3.1 Playera.\n",
        "Escriba una función llamanda $\\verb|hacerPlayera()|$ que acepte como argumento, el tamaño y un texto que apararecerá cerigrafeado en la playera. La función deberá imprimir en la terminal algo parecido a lo siguiente\n",
        "\n",
        "La playera es talla \"Grande\" y el texto a cerigrafear es: \"Hola amigos\"\n",
        "\n",
        "Para verificar el correcto funcionamiento de la función, genere un programa que la invoque."
      ]
    },
    {
      "cell_type": "code",
      "metadata": {
        "id": "K-UyI-xpuoXb",
        "outputId": "362f7023-3dd9-4b33-f6f8-2792f09caae2",
        "colab": {
          "base_uri": "https://localhost:8080/"
        }
      },
      "source": [
        "def hacerPlayera(talla, texto):\n",
        "  print('La playera es talla \"'+ talla +'\" y el texto a cerigrafear es: \"' + texto + '\"')\n",
        "\n",
        "hacerPlayera('grande', 'Holi amigos')"
      ],
      "execution_count": 11,
      "outputs": [
        {
          "output_type": "stream",
          "text": [
            "La playera es talla \"grande\" y el texto a cerigrafear es: \"Holi amigos\"\n"
          ],
          "name": "stdout"
        }
      ]
    },
    {
      "cell_type": "markdown",
      "metadata": {
        "id": "2ILaQA_evzRM"
      },
      "source": [
        "#1.3.2 Playeras Grandes\n",
        "\n",
        "Modique la función hacerPlayera() de tal manera que las playeras grandes sean predeterminadas y el texto predefinido para la cerigrafear sea yo <3 Python \n",
        "\n",
        "Para verificar el correcto funcionamiento del módulo:\n",
        "\n",
        "1.Genere una playera grande utlizando el texto predeterminado.\n",
        "\n",
        "2.Genere una playera mediana con el texto predeterminado.\n",
        "\n",
        "3.Genere una playera de talla distnta a grande con un texto distinto al predeterminado."
      ]
    },
    {
      "cell_type": "code",
      "metadata": {
        "id": "RZf2uRc-wPEd",
        "outputId": "07878788-5d16-4fcf-8ba4-659ff9dd421e",
        "colab": {
          "base_uri": "https://localhost:8080/"
        }
      },
      "source": [
        "def hacerPlayera(talla = 'grande', texto = 'Yo <3 Python'):\n",
        "  print('La playera es talla \"'+ talla +'\" y el texto a cerigrafear es: \"' + texto + '\"')\n",
        "\n",
        "hacerPlayera()\n",
        "hacerPlayera('mediana')\n",
        "hacerPlayera('chica', 'Python es amor')"
      ],
      "execution_count": 12,
      "outputs": [
        {
          "output_type": "stream",
          "text": [
            "La playera es talla \"grande\" y el texto a cerigrafear es: \"Yo <3 Python\"\n",
            "La playera es talla \"mediana\" y el texto a cerigrafear es: \"Yo <3 Python\"\n",
            "La playera es talla \"chica\" y el texto a cerigrafear es: \"Python es amor\"\n"
          ],
          "name": "stdout"
        }
      ]
    },
    {
      "cell_type": "markdown",
      "metadata": {
        "id": "amZxoEgew6KN"
      },
      "source": [
        "\n",
        "#1.3.2 Países y ciudades\n",
        "\n",
        "Escriba una función llamada $\\verb|descripcionCiudad()|$ que acepte como argumentos el nombre de una ciudad y el nombre de un país como argumentos y que imprima en la terminal un texto como: Xalapa está en México, Río de Janeiro está en Brazil, París está en Fracia. Ponga como valor predeterminado \"México\" a la variable país, y llame a la función tres veces donde por lo menos una ciudad no pertenezca al país México."
      ]
    },
    {
      "cell_type": "code",
      "metadata": {
        "id": "nW_2y2kGxBa_",
        "outputId": "5b3167f6-a40f-47a4-caa5-01f60326ad90",
        "colab": {
          "base_uri": "https://localhost:8080/"
        }
      },
      "source": [
        "def descripcionCiudad(ciudad, pais = 'México'):\n",
        "  print(ciudad + ' está en ' + pais)\n",
        "\n",
        "descripcionCiudad('Ciudad de México')\n",
        "descripcionCiudad('Río de Janeiro', 'Brasil')\n",
        "descripcionCiudad('Bogotá')"
      ],
      "execution_count": 13,
      "outputs": [
        {
          "output_type": "stream",
          "text": [
            "Ciudad de México está en México\n",
            "Río de Janeiro está en Brasil\n",
            "Bogotá está en México\n"
          ],
          "name": "stdout"
        }
      ]
    },
    {
      "cell_type": "markdown",
      "metadata": {
        "id": "-2ZDq1Z9yCXt"
      },
      "source": [
        "#1.6 Ejercicios\n",
        "\n"
      ]
    },
    {
      "cell_type": "markdown",
      "metadata": {
        "id": "PKC4dRqHzSJH"
      },
      "source": [
        "2.Hacer una función que el usuario introduzca un número y la función debe de desplegar un triángulo de sumas, Como ejemplo, si el usuario manda a la función 4 debeía imprimir el siguiente arreglo\n",
        "\n",
        "+\n",
        "\n",
        "++\n",
        "\n",
        "+++\n",
        "\n",
        "++++"
      ]
    },
    {
      "cell_type": "code",
      "metadata": {
        "id": "WAsOnG2rK6qz",
        "outputId": "9ab3b008-b428-4c95-8b1c-bdbe2032f084",
        "colab": {
          "base_uri": "https://localhost:8080/"
        }
      },
      "source": [
        "def trianguloSumas(numero):\n",
        "  for i in range(1, numero + 1):\n",
        "    print('+' * i + '\\n')\n",
        "\n",
        "trianguloSumas(4)"
      ],
      "execution_count": 29,
      "outputs": [
        {
          "output_type": "stream",
          "text": [
            "+\n",
            "\n",
            "++\n",
            "\n",
            "+++\n",
            "\n",
            "++++\n",
            "\n"
          ],
          "name": "stdout"
        }
      ]
    }
  ]
}